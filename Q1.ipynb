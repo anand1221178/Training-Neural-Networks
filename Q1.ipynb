{
 "cells": [
  {
   "cell_type": "markdown",
   "metadata": {},
   "source": [
    "#Q1 finding the outputs"
   ]
  },
  {
   "cell_type": "code",
   "execution_count": 44,
   "metadata": {},
   "outputs": [],
   "source": [
    "import numpy as np"
   ]
  },
  {
   "cell_type": "code",
   "execution_count": 45,
   "metadata": {},
   "outputs": [],
   "source": [
    "def sigmoid(x):\n",
    "    return 1/(1+np.exp(-x))"
   ]
  },
  {
   "cell_type": "code",
   "execution_count": 46,
   "metadata": {},
   "outputs": [],
   "source": [
    "def f(x1, x2, x3):\n",
    "  inner1 = 2 * sigmoid(-2 * x1 + x2 - x3 + 1)\n",
    "  inner2 = sigmoid(-x1 + 0.5 * x2 + x3 + 1)\n",
    "  return sigmoid(np.sum(inner1 + inner2) - 1)"
   ]
  },
  {
   "cell_type": "code",
   "execution_count": 47,
   "metadata": {},
   "outputs": [
    {
     "name": "stdout",
     "output_type": "stream",
     "text": [
      "ai 0.8586580672900267\n",
      "aii 0.7069873680001046\n",
      "aiii 0.8520293729481676\n"
     ]
    }
   ],
   "source": [
    "x1 = 0\n",
    "x2 = 3\n",
    "x3 =-1\n",
    "result = f(x1,x2,x3)\n",
    "print( \"ai\", result)\n",
    "x1_ii = 1\n",
    "x2_ii = 2\n",
    "x3_ii = 1\n",
    "result = f(x1_ii,x2_ii,x3_ii)\n",
    "print(\"aii\", result)\n",
    "x1_iii = -1\n",
    "x2_iii = 1\n",
    "x3_iii = 2\n",
    "result = f(x1_iii,x2_iii,x3_iii)\n",
    "print(\"aiii\", result)\n"
   ]
  },
  {
   "cell_type": "markdown",
   "metadata": {},
   "source": [
    "Update the weights of the network using backprop algo when trained on point 1 with traget class 0 alpha =0.1"
   ]
  },
  {
   "cell_type": "code",
   "execution_count": 48,
   "metadata": {},
   "outputs": [],
   "source": [
    "theta_1 = np.array([[1,-1,0.5,1],[2,-2,1,-1]])\n",
    "theta_2 = np.array([-1,2,1])\n",
    "bias_1 = np.array([1,2])\n",
    "bias_2 = np.array([1])"
   ]
  },
  {
   "cell_type": "code",
   "execution_count": 49,
   "metadata": {},
   "outputs": [
    {
     "ename": "UnboundLocalError",
     "evalue": "cannot access local variable 'theta_1' where it is not associated with a value",
     "output_type": "error",
     "traceback": [
      "\u001b[1;31m---------------------------------------------------------------------------\u001b[0m",
      "\u001b[1;31mUnboundLocalError\u001b[0m                         Traceback (most recent call last)",
      "Cell \u001b[1;32mIn[49], line 35\u001b[0m\n\u001b[0;32m     31\u001b[0m     bias_2 \u001b[38;5;241m+\u001b[39m\u001b[38;5;241m=\u001b[39m alpha \u001b[38;5;241m*\u001b[39m delta_2\n\u001b[0;32m     33\u001b[0m     \u001b[38;5;28;01mreturn\u001b[39;00m a_2\n\u001b[1;32m---> 35\u001b[0m result \u001b[38;5;241m=\u001b[39m \u001b[43mbackProp\u001b[49m\u001b[43m(\u001b[49m\u001b[43m)\u001b[49m\n\u001b[0;32m     36\u001b[0m \u001b[38;5;28mprint\u001b[39m(\u001b[38;5;124m\"\u001b[39m\u001b[38;5;124mresult\u001b[39m\u001b[38;5;124m\"\u001b[39m, result)\n",
      "Cell \u001b[1;32mIn[49], line 15\u001b[0m, in \u001b[0;36mbackProp\u001b[1;34m()\u001b[0m\n\u001b[0;32m     11\u001b[0m target \u001b[38;5;241m=\u001b[39m \u001b[38;5;241m0\u001b[39m\n\u001b[0;32m     13\u001b[0m \u001b[38;5;66;03m#forward pass\u001b[39;00m\n\u001b[0;32m     14\u001b[0m \u001b[38;5;66;03m#calculate the values of the hidden layer nodes\u001b[39;00m\n\u001b[1;32m---> 15\u001b[0m a_1 \u001b[38;5;241m=\u001b[39m sigmoid(np\u001b[38;5;241m.\u001b[39mdot(\u001b[43mtheta_1\u001b[49m,x) \u001b[38;5;241m+\u001b[39m bias_1)\n\u001b[0;32m     16\u001b[0m \u001b[38;5;66;03m#calculate the value of the output node\u001b[39;00m\n\u001b[0;32m     17\u001b[0m a_2 \u001b[38;5;241m=\u001b[39m sigmoid(np\u001b[38;5;241m.\u001b[39mdot(theta_2,a_1) \u001b[38;5;241m+\u001b[39m bias_2)\n",
      "\u001b[1;31mUnboundLocalError\u001b[0m: cannot access local variable 'theta_1' where it is not associated with a value"
     ]
    }
   ],
   "source": [
    "def backProp():\n",
    "    #set deltas for all layers and nodes to 0\n",
    "    delta_1 = np.zeros(4)\n",
    "    delta_2 = np.zeros(3)\n",
    "    delta_3 = np.zeros(1)\n",
    "    #set the learning rate\n",
    "    alpha = 0.1\n",
    "    #set the input values to x1, x2, x3 from above\n",
    "    x = np.array([x1,x2,x3])\n",
    "    #set the target value\n",
    "    target = 0\n",
    "\n",
    "    #forward pass\n",
    "    #calculate the values of the hidden layer nodes\n",
    "    a_1 = sigmoid(np.dot(theta_1,x) + bias_1)\n",
    "    #calculate the value of the output node\n",
    "    a_2 = sigmoid(np.dot(theta_2,a_1) + bias_2)\n",
    "    #calculate the error\n",
    "    error = target - a_2\n",
    "    #calculate the delta value for the output node\n",
    "    delta_3 = a_2 * (1 - a_2) * error\n",
    "    #calculate the delta values for the hidden layer nodes\n",
    "    delta_2 = a_1 * (1 - a_1) * np.dot(delta_3, theta_2)\n",
    "    #calculate the delta values for the input layer nodes\n",
    "    delta_1 = x * (1 - x) * np.dot(delta_2, theta_1)\n",
    "\n",
    "    #update the weights\n",
    "    theta_1 += alpha * delta_1\n",
    "    theta_2 += alpha * delta_2\n",
    "    bias_1 += alpha * delta_1\n",
    "    bias_2 += alpha * delta_2\n",
    "\n",
    "    return a_2\n",
    "\n",
    "result = backProp()\n",
    "print(\"result\", result)"
   ]
  }
 ],
 "metadata": {
  "kernelspec": {
   "display_name": "Python 3",
   "language": "python",
   "name": "python3"
  },
  "language_info": {
   "codemirror_mode": {
    "name": "ipython",
    "version": 3
   },
   "file_extension": ".py",
   "mimetype": "text/x-python",
   "name": "python",
   "nbconvert_exporter": "python",
   "pygments_lexer": "ipython3",
   "version": "3.12.2"
  }
 },
 "nbformat": 4,
 "nbformat_minor": 2
}
